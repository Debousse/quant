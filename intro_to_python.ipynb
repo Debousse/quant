# Cell 1 - Markdown
"""
# Welcome to Python for Finance!

In this notebook, we'll cover:
- Variables
- Basic math
- Lists and loops
- Pandas introduction
"""

# Cell 2 - Python
# Basic math
stock_price_today = 150
stock_price_yesterday = 145
change = stock_price_today - stock_price_yesterday
print(f"Stock price increased by ${change}")

# Cell 3 - Python
# Lists and loops
prices = [145, 148, 150, 152, 151]
for p in prices:
    print(p)

# Cell 4 - Python
# Using pandas
import pandas as pd
data = {'Day': ['Mon', 'Tue', 'Wed'], 'Price': [150, 152, 153]}
df = pd.DataFrame(data)
df
